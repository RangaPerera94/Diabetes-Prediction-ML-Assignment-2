{
 "cells": [
  {
   "cell_type": "markdown",
   "id": "465f13b6",
   "metadata": {},
   "source": [
    "# Gradient Boosting Classifier"
   ]
  },
  {
   "cell_type": "code",
   "execution_count": 1,
   "id": "24195cf9",
   "metadata": {},
   "outputs": [],
   "source": [
    "import pandas as pd\n",
    "from sklearn.model_selection import train_test_split\n",
    "from sklearn.preprocessing import StandardScaler\n",
    "from sklearn.ensemble import GradientBoostingClassifier\n",
    "from sklearn.metrics import accuracy_score, precision_score, recall_score, f1_score, confusion_matrix\n",
    "\n",
    "# READ DATASET\n",
    "data = pd.read_csv('diabetes.csv')"
   ]
  },
  {
   "cell_type": "code",
   "execution_count": 2,
   "id": "64a34235",
   "metadata": {},
   "outputs": [],
   "source": [
    "# Impute missing values with the mean of the respective column\n",
    "data.fillna(data.mean(), inplace=True)"
   ]
  },
  {
   "cell_type": "code",
   "execution_count": 3,
   "id": "342baeca",
   "metadata": {},
   "outputs": [],
   "source": [
    "# Split dataset into features (X) and labels (y)\n",
    "X = data.drop(columns=['Outcome'])\n",
    "y = data['Outcome']"
   ]
  },
  {
   "cell_type": "code",
   "execution_count": 4,
   "id": "80c70dae",
   "metadata": {},
   "outputs": [],
   "source": [
    "# Split your data into training and testing sets\n",
    "X_train, X_test, y_train, y_test = train_test_split(X, y, test_size=0.2, random_state=18)"
   ]
  },
  {
   "cell_type": "code",
   "execution_count": 5,
   "id": "8cc7c982",
   "metadata": {},
   "outputs": [],
   "source": [
    "# Feature Scaling\n",
    "sc = StandardScaler()\n",
    "X_train = sc.fit_transform(X_train)\n",
    "X_test = sc.transform(X_test)"
   ]
  },
  {
   "cell_type": "code",
   "execution_count": 6,
   "id": "2a02175f",
   "metadata": {},
   "outputs": [],
   "source": [
    "# Create and train the GradientBoostingClassifier\n",
    "clf = GradientBoostingClassifier(n_estimators=100, learning_rate=1.0, max_depth=1, random_state=18)\n",
    "clf.fit(X_train, y_train)\n",
    "\n",
    "# Make predictions on the test set\n",
    "y_pred = clf.predict(X_test)"
   ]
  },
  {
   "cell_type": "code",
   "execution_count": 7,
   "id": "230597dd",
   "metadata": {},
   "outputs": [
    {
     "name": "stdout",
     "output_type": "stream",
     "text": [
      "Accuracy: 0.8325\n"
     ]
    }
   ],
   "source": [
    "accuracy = accuracy_score(y_test, y_pred)\n",
    "print(\"Accuracy:\", accuracy)"
   ]
  },
  {
   "cell_type": "code",
   "execution_count": 8,
   "id": "ed1d183c",
   "metadata": {},
   "outputs": [
    {
     "name": "stdout",
     "output_type": "stream",
     "text": [
      "Precision: 0.8091603053435115\n"
     ]
    }
   ],
   "source": [
    "# Calculate precision\n",
    "precision = precision_score(y_test, y_pred)\n",
    "print(\"Precision:\", precision)"
   ]
  },
  {
   "cell_type": "code",
   "execution_count": 9,
   "id": "814e3503",
   "metadata": {},
   "outputs": [
    {
     "name": "stdout",
     "output_type": "stream",
     "text": [
      "Recall: 0.7162162162162162\n"
     ]
    }
   ],
   "source": [
    "# Calculate recall\n",
    "recall = recall_score(y_test, y_pred)\n",
    "print(\"Recall:\", recall)"
   ]
  },
  {
   "cell_type": "code",
   "execution_count": 10,
   "id": "2323bfe0",
   "metadata": {},
   "outputs": [
    {
     "name": "stdout",
     "output_type": "stream",
     "text": [
      "F1-Score: 0.7598566308243728\n"
     ]
    }
   ],
   "source": [
    "# Calculate F1-Score\n",
    "f1 = f1_score(y_test, y_pred)\n",
    "print(\"F1-Score:\", f1)"
   ]
  },
  {
   "cell_type": "code",
   "execution_count": 11,
   "id": "f922b5dd",
   "metadata": {},
   "outputs": [
    {
     "name": "stdout",
     "output_type": "stream",
     "text": [
      "Confusion Matrix:\n",
      "[[227  25]\n",
      " [ 42 106]]\n"
     ]
    }
   ],
   "source": [
    "# Calculate and print confusion matrix\n",
    "confusion = confusion_matrix(y_test, y_pred)\n",
    "print(\"Confusion Matrix:\")\n",
    "print(confusion)"
   ]
  },
  {
   "cell_type": "code",
   "execution_count": 14,
   "id": "12ef7d39",
   "metadata": {},
   "outputs": [],
   "source": [
    "# Input feature values and get predictions\n",
    "def predict_diabetes():\n",
    "    feature_values = []\n",
    "    columns = ['Pregnancies', 'Glucose', 'BloodPressure', 'SkinThickness', 'Insulin', 'BMI', 'DiabetesPedigreeFunction', 'Age']\n",
    "    for column in columns:\n",
    "        value = float(input(f\"Enter {column}: \"))\n",
    "        feature_values.append(value)\n",
    "    scaled_features = sc.transform([feature_values])\n",
    "    result = clf.predict(scaled_features)\n",
    "    return result"
   ]
  },
  {
   "cell_type": "code",
   "execution_count": 18,
   "id": "5c9c18c2",
   "metadata": {},
   "outputs": [
    {
     "name": "stdout",
     "output_type": "stream",
     "text": [
      "Enter Pregnancies: 2\n",
      "Enter Glucose: 138\n",
      "Enter BloodPressure: 62\n",
      "Enter SkinThickness: 35\n",
      "Enter Insulin: 0\n",
      "Enter BMI: 32.5\n",
      "Enter DiabetesPedigreeFunction: 0.14\n",
      "Enter Age: 47\n",
      "-------------------------------------\n",
      "Prediction : Person may have Diabetes\n"
     ]
    },
    {
     "name": "stderr",
     "output_type": "stream",
     "text": [
      "C:\\ProgramData\\anaconda3\\lib\\site-packages\\sklearn\\base.py:420: UserWarning: X does not have valid feature names, but StandardScaler was fitted with feature names\n",
      "  warnings.warn(\n"
     ]
    }
   ],
   "source": [
    "    try:\n",
    "        prediction = predict_diabetes()\n",
    "        if prediction[0] == 1:\n",
    "            print(\"-------------------------------------\")\n",
    "            print(\"Prediction : Person may have Diabetes\")\n",
    "        else:\n",
    "            print(\"-----------------------------------------\")\n",
    "            print(\"Prediction : Person may not have Diabetes\")\n",
    "    except ValueError:\n",
    "        print(\"Invalid input. Please enter numerical values for features.\")"
   ]
  },
  {
   "cell_type": "code",
   "execution_count": null,
   "id": "e315ee9e",
   "metadata": {},
   "outputs": [],
   "source": []
  },
  {
   "cell_type": "code",
   "execution_count": null,
   "id": "1cd7e5c7",
   "metadata": {},
   "outputs": [],
   "source": []
  }
 ],
 "metadata": {
  "kernelspec": {
   "display_name": "Python 3 (ipykernel)",
   "language": "python",
   "name": "python3"
  },
  "language_info": {
   "codemirror_mode": {
    "name": "ipython",
    "version": 3
   },
   "file_extension": ".py",
   "mimetype": "text/x-python",
   "name": "python",
   "nbconvert_exporter": "python",
   "pygments_lexer": "ipython3",
   "version": "3.10.9"
  }
 },
 "nbformat": 4,
 "nbformat_minor": 5
}
